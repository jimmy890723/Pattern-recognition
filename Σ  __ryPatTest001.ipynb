{
 "cells": [
  {
   "cell_type": "code",
   "execution_count": 8,
   "metadata": {},
   "outputs": [
    {
     "name": "stdout",
     "output_type": "stream",
     "text": [
      "k= 0\n",
      "f= Sum(1, (i, 1, n))\n"
     ]
    },
    {
     "data": {
      "text/latex": [
       "$\\displaystyle \\sum_{i=1}^{n} 1$"
      ],
      "text/plain": [
       "Sum(1, (i, 1, n))"
      ]
     },
     "metadata": {},
     "output_type": "display_data"
    },
    {
     "data": {
      "text/latex": [
       "$\\displaystyle n$"
      ],
      "text/plain": [
       "n"
      ]
     },
     "metadata": {},
     "output_type": "display_data"
    },
    {
     "name": "stdout",
     "output_type": "stream",
     "text": [
      "----------\n",
      "k= 1\n",
      "f= Sum(i, (i, 1, n))\n"
     ]
    },
    {
     "data": {
      "text/latex": [
       "$\\displaystyle \\sum_{i=1}^{n} i$"
      ],
      "text/plain": [
       "Sum(i, (i, 1, n))"
      ]
     },
     "metadata": {},
     "output_type": "display_data"
    },
    {
     "data": {
      "text/latex": [
       "$\\displaystyle \\frac{n^{2}}{2} + \\frac{n}{2}$"
      ],
      "text/plain": [
       "n**2/2 + n/2"
      ]
     },
     "metadata": {},
     "output_type": "display_data"
    },
    {
     "name": "stdout",
     "output_type": "stream",
     "text": [
      "----------\n",
      "k= 2\n",
      "f= Sum(i**2, (i, 1, n))\n"
     ]
    },
    {
     "data": {
      "text/latex": [
       "$\\displaystyle \\sum_{i=1}^{n} i^{2}$"
      ],
      "text/plain": [
       "Sum(i**2, (i, 1, n))"
      ]
     },
     "metadata": {},
     "output_type": "display_data"
    },
    {
     "data": {
      "text/latex": [
       "$\\displaystyle \\frac{n^{3}}{3} + \\frac{n^{2}}{2} + \\frac{n}{6}$"
      ],
      "text/plain": [
       "n**3/3 + n**2/2 + n/6"
      ]
     },
     "metadata": {},
     "output_type": "display_data"
    },
    {
     "name": "stdout",
     "output_type": "stream",
     "text": [
      "----------\n",
      "k= 3\n",
      "f= Sum(i**3, (i, 1, n))\n"
     ]
    },
    {
     "data": {
      "text/latex": [
       "$\\displaystyle \\sum_{i=1}^{n} i^{3}$"
      ],
      "text/plain": [
       "Sum(i**3, (i, 1, n))"
      ]
     },
     "metadata": {},
     "output_type": "display_data"
    },
    {
     "data": {
      "text/latex": [
       "$\\displaystyle \\frac{n^{4}}{4} + \\frac{n^{3}}{2} + \\frac{n^{2}}{4}$"
      ],
      "text/plain": [
       "n**4/4 + n**3/2 + n**2/4"
      ]
     },
     "metadata": {},
     "output_type": "display_data"
    },
    {
     "name": "stdout",
     "output_type": "stream",
     "text": [
      "----------\n",
      "k= 4\n",
      "f= Sum(i**4, (i, 1, n))\n"
     ]
    },
    {
     "data": {
      "text/latex": [
       "$\\displaystyle \\sum_{i=1}^{n} i^{4}$"
      ],
      "text/plain": [
       "Sum(i**4, (i, 1, n))"
      ]
     },
     "metadata": {},
     "output_type": "display_data"
    },
    {
     "data": {
      "text/latex": [
       "$\\displaystyle \\frac{n^{5}}{5} + \\frac{n^{4}}{2} + \\frac{n^{3}}{3} - \\frac{n}{30}$"
      ],
      "text/plain": [
       "n**5/5 + n**4/2 + n**3/3 - n/30"
      ]
     },
     "metadata": {},
     "output_type": "display_data"
    },
    {
     "name": "stdout",
     "output_type": "stream",
     "text": [
      "----------\n",
      "k= 5\n",
      "f= Sum(i**5, (i, 1, n))\n"
     ]
    },
    {
     "data": {
      "text/latex": [
       "$\\displaystyle \\sum_{i=1}^{n} i^{5}$"
      ],
      "text/plain": [
       "Sum(i**5, (i, 1, n))"
      ]
     },
     "metadata": {},
     "output_type": "display_data"
    },
    {
     "data": {
      "text/latex": [
       "$\\displaystyle \\frac{n^{6}}{6} + \\frac{n^{5}}{2} + \\frac{5 n^{4}}{12} - \\frac{n^{2}}{12}$"
      ],
      "text/plain": [
       "n**6/6 + n**5/2 + 5*n**4/12 - n**2/12"
      ]
     },
     "metadata": {},
     "output_type": "display_data"
    },
    {
     "name": "stdout",
     "output_type": "stream",
     "text": [
      "----------\n",
      "k= 6\n",
      "f= Sum(i**6, (i, 1, n))\n"
     ]
    },
    {
     "data": {
      "text/latex": [
       "$\\displaystyle \\sum_{i=1}^{n} i^{6}$"
      ],
      "text/plain": [
       "Sum(i**6, (i, 1, n))"
      ]
     },
     "metadata": {},
     "output_type": "display_data"
    },
    {
     "data": {
      "text/latex": [
       "$\\displaystyle \\frac{n^{7}}{7} + \\frac{n^{6}}{2} + \\frac{n^{5}}{2} - \\frac{n^{3}}{6} + \\frac{n}{42}$"
      ],
      "text/plain": [
       "n**7/7 + n**6/2 + n**5/2 - n**3/6 + n/42"
      ]
     },
     "metadata": {},
     "output_type": "display_data"
    },
    {
     "name": "stdout",
     "output_type": "stream",
     "text": [
      "----------\n",
      "k= 7\n",
      "f= Sum(i**7, (i, 1, n))\n"
     ]
    },
    {
     "data": {
      "text/latex": [
       "$\\displaystyle \\sum_{i=1}^{n} i^{7}$"
      ],
      "text/plain": [
       "Sum(i**7, (i, 1, n))"
      ]
     },
     "metadata": {},
     "output_type": "display_data"
    },
    {
     "data": {
      "text/latex": [
       "$\\displaystyle \\frac{n^{8}}{8} + \\frac{n^{7}}{2} + \\frac{7 n^{6}}{12} - \\frac{7 n^{4}}{24} + \\frac{n^{2}}{12}$"
      ],
      "text/plain": [
       "n**8/8 + n**7/2 + 7*n**6/12 - 7*n**4/24 + n**2/12"
      ]
     },
     "metadata": {},
     "output_type": "display_data"
    },
    {
     "name": "stdout",
     "output_type": "stream",
     "text": [
      "----------\n",
      "k= 8\n",
      "f= Sum(i**8, (i, 1, n))\n"
     ]
    },
    {
     "data": {
      "text/latex": [
       "$\\displaystyle \\sum_{i=1}^{n} i^{8}$"
      ],
      "text/plain": [
       "Sum(i**8, (i, 1, n))"
      ]
     },
     "metadata": {},
     "output_type": "display_data"
    },
    {
     "data": {
      "text/latex": [
       "$\\displaystyle \\frac{n^{9}}{9} + \\frac{n^{8}}{2} + \\frac{2 n^{7}}{3} - \\frac{7 n^{5}}{15} + \\frac{2 n^{3}}{9} - \\frac{n}{30}$"
      ],
      "text/plain": [
       "n**9/9 + n**8/2 + 2*n**7/3 - 7*n**5/15 + 2*n**3/9 - n/30"
      ]
     },
     "metadata": {},
     "output_type": "display_data"
    },
    {
     "name": "stdout",
     "output_type": "stream",
     "text": [
      "----------\n",
      "k= 9\n",
      "f= Sum(i**9, (i, 1, n))\n"
     ]
    },
    {
     "data": {
      "text/latex": [
       "$\\displaystyle \\sum_{i=1}^{n} i^{9}$"
      ],
      "text/plain": [
       "Sum(i**9, (i, 1, n))"
      ]
     },
     "metadata": {},
     "output_type": "display_data"
    },
    {
     "data": {
      "text/latex": [
       "$\\displaystyle \\frac{n^{10}}{10} + \\frac{n^{9}}{2} + \\frac{3 n^{8}}{4} - \\frac{7 n^{6}}{10} + \\frac{n^{4}}{2} - \\frac{3 n^{2}}{20}$"
      ],
      "text/plain": [
       "n**10/10 + n**9/2 + 3*n**8/4 - 7*n**6/10 + n**4/2 - 3*n**2/20"
      ]
     },
     "metadata": {},
     "output_type": "display_data"
    },
    {
     "name": "stdout",
     "output_type": "stream",
     "text": [
      "----------\n"
     ]
    }
   ],
   "source": [
    "#Σ 公式 \n",
    "\n",
    "import sympy as sm\n",
    "\n",
    "#i, n= sm.symbols('i, n') \n",
    "\n",
    "for k in range(10): \n",
    "    #Σ算式呈現\n",
    "    f= sm.Sum( i**k, (i, 1, n)) \n",
    "    #輸出結果\n",
    "    result= f.doit() \n",
    "\n",
    "     \n",
    "    print ('k= ' + str(k)) \n",
    "\n",
    "    print ('f= ' + str(f)) \n",
    "\n",
    "    display(f) \n",
    "\n",
    "    display(result) \n",
    "\n",
    "    print(\"-\"*10) "
   ]
  }
 ],
 "metadata": {
  "kernelspec": {
   "display_name": "Python [conda env:py36]",
   "language": "python",
   "name": "py36"
  },
  "language_info": {
   "codemirror_mode": {
    "name": "ipython",
    "version": 3
   },
   "file_extension": ".py",
   "mimetype": "text/x-python",
   "name": "python",
   "nbconvert_exporter": "python",
   "pygments_lexer": "ipython3",
   "version": "3.6.8"
  }
 },
 "nbformat": 4,
 "nbformat_minor": 4
}
